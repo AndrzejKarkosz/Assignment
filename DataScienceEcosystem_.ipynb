{
 "cells": [
  {
   "cell_type": "markdown",
   "id": "a80c49ca",
   "metadata": {},
   "source": [
    "# Data Science Ecosystem"
   ]
  },
  {
   "cell_type": "markdown",
   "id": "43efe65a",
   "metadata": {},
   "source": [
    "Objectives:\n",
    " - 'List of popular lenguages'\n",
    " - 'List of libraries'\n",
    " - 'Data Science Tools'\n",
    " \n"
   ]
  },
  {
   "cell_type": "markdown",
   "id": "b97028e3",
   "metadata": {},
   "source": [
    "In this notebook, Data Science Tools and Ecosystem are summarized."
   ]
  },
  {
   "cell_type": "code",
   "execution_count": null,
   "id": "ce364f8b",
   "metadata": {},
   "outputs": [],
   "source": []
  },
  {
   "cell_type": "markdown",
   "id": "40ef269e",
   "metadata": {},
   "source": [
    "Some of the popular languages that Data Scientists use are:\n",
    "1. Python\n",
    "2. R\n",
    "3. Scala\n",
    "4. C\n",
    "5. C++"
   ]
  },
  {
   "cell_type": "markdown",
   "id": "eb7a0818",
   "metadata": {},
   "source": [
    "Some of the commonly used libraries used by Data Scientists include:\n",
    " 1. ggplot\n",
    " 2. pandas\n",
    " 3. matplotlib\n",
    " 4. numpy"
   ]
  },
  {
   "cell_type": "markdown",
   "id": "d3b81361",
   "metadata": {},
   "source": [
    "|Data Scienc Tools|\n",
    "|-----------------|\n",
    "|Jupyter Notebook|\n",
    "|Jupyter Lab|\n",
    "|IBM Watson Studio|"
   ]
  },
  {
   "cell_type": "markdown",
   "id": "0e9b9772",
   "metadata": {},
   "source": [
    "### 'Below are a few examples of evaluating arithmetic expressions in Python'\n"
   ]
  },
  {
   "cell_type": "code",
   "execution_count": 3,
   "id": "ebd17e3e",
   "metadata": {},
   "outputs": [
    {
     "data": {
      "text/plain": [
       "17"
      ]
     },
     "execution_count": 3,
     "metadata": {},
     "output_type": "execute_result"
    }
   ],
   "source": [
    "(3*4)+5\n",
    "# his a simple arithmetic expression to mutiply then add integers"
   ]
  },
  {
   "cell_type": "code",
   "execution_count": 4,
   "id": "9d651aea",
   "metadata": {},
   "outputs": [
    {
     "data": {
      "text/plain": [
       "3.3333333333333335"
      ]
     },
     "execution_count": 4,
     "metadata": {},
     "output_type": "execute_result"
    }
   ],
   "source": [
    "#This will convert 200 minutes to hours by diving by 60\n",
    "x = 200\n",
    "y = 60\n",
    "x/y"
   ]
  },
  {
   "cell_type": "markdown",
   "id": "00139cd0",
   "metadata": {},
   "source": [
    "## Author\n",
    "Andrzej Karkosz"
   ]
  },
  {
   "cell_type": "code",
   "execution_count": null,
   "id": "25a68314",
   "metadata": {},
   "outputs": [],
   "source": []
  }
 ],
 "metadata": {
  "kernelspec": {
   "display_name": "Python 3 (ipykernel)",
   "language": "python",
   "name": "python3"
  },
  "language_info": {
   "codemirror_mode": {
    "name": "ipython",
    "version": 3
   },
   "file_extension": ".py",
   "mimetype": "text/x-python",
   "name": "python",
   "nbconvert_exporter": "python",
   "pygments_lexer": "ipython3",
   "version": "3.11.3"
  }
 },
 "nbformat": 4,
 "nbformat_minor": 5
}
